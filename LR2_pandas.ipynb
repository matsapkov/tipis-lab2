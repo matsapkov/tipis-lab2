{
 "cells": [
  {
   "cell_type": "markdown",
   "metadata": {},
   "source": [
    "# Pandas"
   ]
  },
  {
   "cell_type": "markdown",
   "metadata": {},
   "source": [
    "Полезные ссылки:\n",
    "* https://pandas.pydata.org/docs/user_guide/index.html\n",
    "* https://pandas.pydata.org/docs/reference/index.html"
   ]
  },
  {
   "cell_type": "markdown",
   "metadata": {},
   "source": [
    "### Задачи"
   ]
  },
  {
   "cell_type": "markdown",
   "metadata": {},
   "source": [
    "1. В файлах `recipes_sample.csv` и `reviews_sample.csv` находится информация об рецептах блюд и отзывах на эти рецепты соответственно. Загрузите данные из файлов в виде `pd.DataFrame` с названиями `recipes` и `reviews`. Обратите внимание на корректное считывание столбца(ов) с индексами."
   ]
  },
  {
   "metadata": {
    "ExecuteTime": {
     "end_time": "2024-11-15T22:38:35.818222Z",
     "start_time": "2024-11-15T22:38:35.268908Z"
    }
   },
   "cell_type": "code",
   "source": [
    "import pandas as pd\n",
    "\n",
    "recipes = pd.read_csv('data/recipes_sample.csv')\n",
    "reviews = pd.read_csv('data/reviews_sample.csv')\n",
    "\n",
    "print('Recipes')\n",
    "print(recipes.head())\n",
    "print('Reviews')\n",
    "print(reviews.head())"
   ],
   "outputs": [
    {
     "name": "stdout",
     "output_type": "stream",
     "text": [
      "Recipes\n",
      "                                       name     id  minutes  contributor_id  \\\n",
      "0     george s at the cove  black bean soup  44123       90           35193   \n",
      "1        healthy for them  yogurt popsicles  67664       10           91970   \n",
      "2              i can t believe it s spinach  38798       30            1533   \n",
      "3                      italian  gut busters  35173       45           22724   \n",
      "4  love is in the air  beef fondue   sauces  84797       25            4470   \n",
      "\n",
      "    submitted  n_steps                                        description  \\\n",
      "0  2002-10-25      NaN  an original recipe created by chef scott meska...   \n",
      "1  2003-07-26      NaN  my children and their friends ask for my homem...   \n",
      "2  2002-08-29      NaN            these were so go, it surprised even me.   \n",
      "3  2002-07-27      NaN  my sister-in-law made these for us at a family...   \n",
      "4  2004-02-23     4.00  i think a fondue is a very romantic casual din...   \n",
      "\n",
      "   n_ingredients  \n",
      "0          18.00  \n",
      "1            NaN  \n",
      "2           8.00  \n",
      "3            NaN  \n",
      "4            NaN  \n",
      "Reviews\n",
      "   Unnamed: 0     user_id  recipe_id        date  rating  \\\n",
      "0      370476       21752      57993  2003-05-01       5   \n",
      "1      624300      431813     142201  2007-09-16       5   \n",
      "2      187037      400708     252013  2008-01-10       4   \n",
      "3      706134  2001852463     404716  2017-12-11       5   \n",
      "4      312179       95810     129396  2008-03-14       5   \n",
      "\n",
      "                                              review  \n",
      "0  Last week whole sides of frozen salmon fillet ...  \n",
      "1  So simple and so tasty!  I used a yellow capsi...  \n",
      "2  Very nice breakfast HH, easy to make and yummy...  \n",
      "3  These are a favorite for the holidays and so e...  \n",
      "4  Excellent soup!  The tomato flavor is just gre...  \n"
     ]
    }
   ],
   "execution_count": 56
  },
  {
   "cell_type": "markdown",
   "metadata": {},
   "source": [
    "2. Для каждой из таблиц выведите основные параметры:\n",
    "* количество точек данных (строк);\n",
    "* количество столбцов;\n",
    "* тип данных каждого столбца."
   ]
  },
  {
   "metadata": {
    "ExecuteTime": {
     "end_time": "2024-11-15T22:38:35.824074Z",
     "start_time": "2024-11-15T22:38:35.819228Z"
    }
   },
   "cell_type": "code",
   "source": [
    "recipes_params = {\n",
    "    'Rows': recipes.shape[0],\n",
    "    'Columns': recipes.shape[1],\n",
    "    'Data_types': recipes.dtypes,\n",
    "}\n",
    "\n",
    "reviews_params = {\n",
    "    'Rows': recipes.shape[0],\n",
    "    'Columns': recipes.shape[1],\n",
    "    'Data_types': recipes.dtypes,\n",
    "}\n",
    "\n",
    "print(reviews_params)\n",
    "print(recipes_params)"
   ],
   "outputs": [
    {
     "name": "stdout",
     "output_type": "stream",
     "text": [
      "{'Rows': 30000, 'Columns': 8, 'Data_types': name               object\n",
      "id                  int64\n",
      "minutes             int64\n",
      "contributor_id      int64\n",
      "submitted          object\n",
      "n_steps           float64\n",
      "description        object\n",
      "n_ingredients     float64\n",
      "dtype: object}\n",
      "{'Rows': 30000, 'Columns': 8, 'Data_types': name               object\n",
      "id                  int64\n",
      "minutes             int64\n",
      "contributor_id      int64\n",
      "submitted          object\n",
      "n_steps           float64\n",
      "description        object\n",
      "n_ingredients     float64\n",
      "dtype: object}\n"
     ]
    }
   ],
   "execution_count": 57
  },
  {
   "cell_type": "markdown",
   "metadata": {},
   "source": [
    "3. Исследуйте, в каких столбцах таблиц содержатся пропуски. Посчитайте долю строк, содержащих пропуски, в отношении к общему количеству строк."
   ]
  },
  {
   "metadata": {
    "ExecuteTime": {
     "end_time": "2024-11-15T22:38:35.860562Z",
     "start_time": "2024-11-15T22:38:35.825082Z"
    }
   },
   "cell_type": "code",
   "source": [
    "recipes_missing = recipes.isnull().sum()  \n",
    "recipes_missing_percent = recipes.isnull().any(axis=1).mean()  \n",
    "\n",
    "reviews_missing = reviews.isnull().sum() \n",
    "reviews_missing_percent = reviews.isnull().any(axis=1).mean()  \n",
    "\n",
    "print(\"Пропуски в таблице recipes:\")\n",
    "print(recipes_missing)\n",
    "print(f\"Доля строк с пропусками: {recipes_missing_percent:.2%}\")\n",
    "\n",
    "print(\"\\nПропуски в таблице reviews:\")\n",
    "print(reviews_missing)\n",
    "print(f\"Доля строк с пропусками: {reviews_missing_percent:.2%}\")"
   ],
   "outputs": [
    {
     "name": "stdout",
     "output_type": "stream",
     "text": [
      "Пропуски в таблице recipes:\n",
      "name                  0\n",
      "id                    0\n",
      "minutes               0\n",
      "contributor_id        0\n",
      "submitted             0\n",
      "n_steps           11190\n",
      "description         623\n",
      "n_ingredients      8880\n",
      "dtype: int64\n",
      "Доля строк с пропусками: 56.85%\n",
      "\n",
      "Пропуски в таблице reviews:\n",
      "Unnamed: 0     0\n",
      "user_id        0\n",
      "recipe_id      0\n",
      "date           0\n",
      "rating         0\n",
      "review        17\n",
      "dtype: int64\n",
      "Доля строк с пропусками: 0.01%\n"
     ]
    }
   ],
   "execution_count": 58
  },
  {
   "cell_type": "markdown",
   "metadata": {},
   "source": [
    "4. Рассчитайте среднее значение для каждого из числовых столбцов (где это имеет смысл)."
   ]
  },
  {
   "metadata": {
    "ExecuteTime": {
     "end_time": "2024-11-15T22:38:35.870573Z",
     "start_time": "2024-11-15T22:38:35.861568Z"
    }
   },
   "cell_type": "code",
   "source": [
    "pd.options.display.float_format = '{:,.2f}'.format\n",
    "\n",
    "recipes_middle = recipes.select_dtypes(include=['number']).mean()\n",
    "reviews_middle = reviews.select_dtypes(include=['number']).mean()\n",
    "\n",
    "print(recipes_middle)\n",
    "print(reviews_middle)"
   ],
   "outputs": [
    {
     "name": "stdout",
     "output_type": "stream",
     "text": [
      "id                 221,879.29\n",
      "minutes                123.36\n",
      "contributor_id   5,635,900.57\n",
      "n_steps                  9.81\n",
      "n_ingredients            9.01\n",
      "dtype: float64\n",
      "Unnamed: 0       566,089.82\n",
      "user_id      140,801,264.74\n",
      "recipe_id        160,094.39\n",
      "rating                 4.41\n",
      "dtype: float64\n"
     ]
    }
   ],
   "execution_count": 59
  },
  {
   "cell_type": "markdown",
   "metadata": {},
   "source": [
    "5. Выведите информацию о рецептах, время выполнения которых не больше 20 минут и кол-во ингредиентов в которых не больше 5."
   ]
  },
  {
   "metadata": {
    "ExecuteTime": {
     "end_time": "2024-11-15T22:38:35.880408Z",
     "start_time": "2024-11-15T22:38:35.871905Z"
    }
   },
   "cell_type": "code",
   "source": [
    "recipes_task = recipes[(recipes['minutes'] <= 20) & (recipes['n_ingredients'] <= 5)]\n",
    "print(recipes_task)"
   ],
   "outputs": [
    {
     "name": "stdout",
     "output_type": "stream",
     "text": [
      "                                                    name      id  minutes  \\\n",
      "28                                   quick biscuit bread  302399       20   \n",
      "60                         peas  fit for a king or queen  303944       20   \n",
      "90                     hawaiian sunrise           mimosa  100837        5   \n",
      "91            tasty dish s   banana pudding in 2 minutes  286484        2   \n",
      "94                                    1 minute meatballs   11361       13   \n",
      "...                                                  ...     ...      ...   \n",
      "29873  zip and steam red potatoes with butter and garlic  304922       13   \n",
      "29874                          ziplock vanilla ice cream   74250       10   \n",
      "29905                      zucchini and corn with cheese  256177       15   \n",
      "29980               zucchini with jalapeno monterey jack  320622       10   \n",
      "29983                          zucchini with serrano ham  162411       15   \n",
      "\n",
      "       contributor_id   submitted  n_steps  \\\n",
      "28             213909  2008-05-06    11.00   \n",
      "60             213909  2008-05-16      NaN   \n",
      "90              58104  2004-09-29     4.00   \n",
      "91              47892  2008-02-13      NaN   \n",
      "94               4470  2001-09-03      NaN   \n",
      "...               ...         ...      ...   \n",
      "29873          724218  2008-05-27     9.00   \n",
      "29874           24386  2003-10-29     8.00   \n",
      "29905          305531  2007-09-29     4.00   \n",
      "29980          305531  2008-08-20     3.00   \n",
      "29983          152500  2006-03-31     6.00   \n",
      "\n",
      "                                             description  n_ingredients  \n",
      "28     this is a wonderful quick bread to make as an ...           5.00  \n",
      "60     this recipe is so simple and the flavors are s...           5.00  \n",
      "90     pineapple mimosa was changed to hawaiian sunri...           3.00  \n",
      "91     \"mmmm, i love bananas!\" a --tasty dish-- origi...           4.00  \n",
      "94     this is a real short cut for cooks in a hurry....           2.00  \n",
      "...                                                  ...            ...  \n",
      "29873  i haven't tried this yet, but i am going to so...           5.00  \n",
      "29874  a fun thing for kids to do. may want to use mi...           3.00  \n",
      "29905  from betty crocker fresh spring recipes. i lik...           5.00  \n",
      "29980                                  simple and yummy!           3.00  \n",
      "29983  this dish is from tim malzer, a german chef wh...           5.00  \n",
      "\n",
      "[2019 rows x 8 columns]\n"
     ]
    }
   ],
   "execution_count": 60
  },
  {
   "cell_type": "markdown",
   "metadata": {},
   "source": [
    "6. Выведите информацию о рецептах, добавленных в датасет не позже 2010 года."
   ]
  },
  {
   "metadata": {
    "ExecuteTime": {
     "end_time": "2024-11-15T22:38:35.901138Z",
     "start_time": "2024-11-15T22:38:35.881415Z"
    }
   },
   "cell_type": "code",
   "source": [
    "recipes.submitted = pd.to_datetime(recipes.submitted)\n",
    "recipes_task = recipes[(recipes.submitted <= '2010-12-31')]\n",
    "print(recipes_task)"
   ],
   "outputs": [
    {
     "name": "stdout",
     "output_type": "stream",
     "text": [
      "                                               name      id  minutes  \\\n",
      "0             george s at the cove  black bean soup   44123       90   \n",
      "1                healthy for them  yogurt popsicles   67664       10   \n",
      "2                      i can t believe it s spinach   38798       30   \n",
      "3                              italian  gut busters   35173       45   \n",
      "4          love is in the air  beef fondue   sauces   84797       25   \n",
      "...                                             ...     ...      ...   \n",
      "29993                     zuni caf zucchini pickles  316950     2895   \n",
      "29995  zurie s holey rustic olive and cheddar bread  267661       80   \n",
      "29996          zwetschgenkuchen  bavarian plum cake  386977      240   \n",
      "29997   zwiebelkuchen   southwest german onion cake  103312       75   \n",
      "29999        cookies by design   cookies on a stick  298512       29   \n",
      "\n",
      "       contributor_id  submitted  n_steps  \\\n",
      "0               35193 2002-10-25      NaN   \n",
      "1               91970 2003-07-26      NaN   \n",
      "2                1533 2002-08-29      NaN   \n",
      "3               22724 2002-07-27      NaN   \n",
      "4                4470 2004-02-23     4.00   \n",
      "...               ...        ...      ...   \n",
      "29993           62264 2008-07-31      NaN   \n",
      "29995          200862 2007-11-25    16.00   \n",
      "29996          177443 2009-08-24      NaN   \n",
      "29997          161745 2004-11-03      NaN   \n",
      "29999          506822 2008-04-15     9.00   \n",
      "\n",
      "                                             description  n_ingredients  \n",
      "0      an original recipe created by chef scott meska...          18.00  \n",
      "1      my children and their friends ask for my homem...            NaN  \n",
      "2                these were so go, it surprised even me.           8.00  \n",
      "3      my sister-in-law made these for us at a family...            NaN  \n",
      "4      i think a fondue is a very romantic casual din...            NaN  \n",
      "...                                                  ...            ...  \n",
      "29993  refrigerator pickles for some of the zucchini ...           8.00  \n",
      "29995  this is based on a french recipe but i changed...          10.00  \n",
      "29996  this is a traditional fresh plum cake, thought...          11.00  \n",
      "29997  this is a traditional late summer early fall s...            NaN  \n",
      "29999  i've heard of the 'cookies by design' company,...          10.00  \n",
      "\n",
      "[27661 rows x 8 columns]\n"
     ]
    }
   ],
   "execution_count": 61
  },
  {
   "cell_type": "markdown",
   "metadata": {},
   "source": [
    "7.  Добавьте в таблицу `recipes` столбец `description_length`, в котором хранится длина описания рецепта из столбца `description`."
   ]
  },
  {
   "metadata": {
    "ExecuteTime": {
     "end_time": "2024-11-15T22:38:35.915009Z",
     "start_time": "2024-11-15T22:38:35.902143Z"
    }
   },
   "cell_type": "code",
   "source": [
    "recipes['description_length'] = recipes.description.str.len()\n",
    "print(recipes)"
   ],
   "outputs": [
    {
     "name": "stdout",
     "output_type": "stream",
     "text": [
      "                                               name      id  minutes  \\\n",
      "0             george s at the cove  black bean soup   44123       90   \n",
      "1                healthy for them  yogurt popsicles   67664       10   \n",
      "2                      i can t believe it s spinach   38798       30   \n",
      "3                              italian  gut busters   35173       45   \n",
      "4          love is in the air  beef fondue   sauces   84797       25   \n",
      "...                                             ...     ...      ...   \n",
      "29995  zurie s holey rustic olive and cheddar bread  267661       80   \n",
      "29996          zwetschgenkuchen  bavarian plum cake  386977      240   \n",
      "29997   zwiebelkuchen   southwest german onion cake  103312       75   \n",
      "29998                                   zydeco soup  486161       60   \n",
      "29999        cookies by design   cookies on a stick  298512       29   \n",
      "\n",
      "       contributor_id  submitted  n_steps  \\\n",
      "0               35193 2002-10-25      NaN   \n",
      "1               91970 2003-07-26      NaN   \n",
      "2                1533 2002-08-29      NaN   \n",
      "3               22724 2002-07-27      NaN   \n",
      "4                4470 2004-02-23     4.00   \n",
      "...               ...        ...      ...   \n",
      "29995          200862 2007-11-25    16.00   \n",
      "29996          177443 2009-08-24      NaN   \n",
      "29997          161745 2004-11-03      NaN   \n",
      "29998          227978 2012-08-29      NaN   \n",
      "29999          506822 2008-04-15     9.00   \n",
      "\n",
      "                                             description  n_ingredients  \\\n",
      "0      an original recipe created by chef scott meska...          18.00   \n",
      "1      my children and their friends ask for my homem...            NaN   \n",
      "2                these were so go, it surprised even me.           8.00   \n",
      "3      my sister-in-law made these for us at a family...            NaN   \n",
      "4      i think a fondue is a very romantic casual din...            NaN   \n",
      "...                                                  ...            ...   \n",
      "29995  this is based on a french recipe but i changed...          10.00   \n",
      "29996  this is a traditional fresh plum cake, thought...          11.00   \n",
      "29997  this is a traditional late summer early fall s...            NaN   \n",
      "29998  this is a delicious soup that i originally fou...            NaN   \n",
      "29999  i've heard of the 'cookies by design' company,...          10.00   \n",
      "\n",
      "       description_length  \n",
      "0                  330.00  \n",
      "1                  255.00  \n",
      "2                   39.00  \n",
      "3                  154.00  \n",
      "4                  587.00  \n",
      "...                   ...  \n",
      "29995              484.00  \n",
      "29996              286.00  \n",
      "29997              311.00  \n",
      "29998              648.00  \n",
      "29999              125.00  \n",
      "\n",
      "[30000 rows x 9 columns]\n"
     ]
    }
   ],
   "execution_count": 62
  },
  {
   "cell_type": "markdown",
   "metadata": {},
   "source": [
    "8. Измените название каждого рецепта в таблице `recipes` таким образом, чтобы каждое слово в названии начиналось с прописной буквы."
   ]
  },
  {
   "metadata": {
    "ExecuteTime": {
     "end_time": "2024-11-15T22:38:35.923118Z",
     "start_time": "2024-11-15T22:38:35.916014Z"
    }
   },
   "cell_type": "code",
   "source": [
    "recipes.name = recipes.name.str.lower()\n",
    "print(recipes.name)"
   ],
   "outputs": [
    {
     "name": "stdout",
     "output_type": "stream",
     "text": [
      "0               george s at the cove  black bean soup\n",
      "1                  healthy for them  yogurt popsicles\n",
      "2                        i can t believe it s spinach\n",
      "3                                italian  gut busters\n",
      "4            love is in the air  beef fondue   sauces\n",
      "                             ...                     \n",
      "29995    zurie s holey rustic olive and cheddar bread\n",
      "29996            zwetschgenkuchen  bavarian plum cake\n",
      "29997     zwiebelkuchen   southwest german onion cake\n",
      "29998                                     zydeco soup\n",
      "29999          cookies by design   cookies on a stick\n",
      "Name: name, Length: 30000, dtype: object\n"
     ]
    }
   ],
   "execution_count": 63
  },
  {
   "cell_type": "markdown",
   "metadata": {},
   "source": [
    "9. Добавьте в таблицу `recipes` столбец `name_word_count`, в котором хранится количество слов из названии рецепта (считайте, что слова в названии разделяются только пробелами)."
   ]
  },
  {
   "metadata": {
    "ExecuteTime": {
     "end_time": "2024-11-15T22:38:35.950027Z",
     "start_time": "2024-11-15T22:38:35.924165Z"
    }
   },
   "cell_type": "code",
   "source": [
    "recipes['name_word_count'] = recipes.name.str.split().apply(len)\n",
    "print(recipes)"
   ],
   "outputs": [
    {
     "name": "stdout",
     "output_type": "stream",
     "text": [
      "                                               name      id  minutes  \\\n",
      "0             george s at the cove  black bean soup   44123       90   \n",
      "1                healthy for them  yogurt popsicles   67664       10   \n",
      "2                      i can t believe it s spinach   38798       30   \n",
      "3                              italian  gut busters   35173       45   \n",
      "4          love is in the air  beef fondue   sauces   84797       25   \n",
      "...                                             ...     ...      ...   \n",
      "29995  zurie s holey rustic olive and cheddar bread  267661       80   \n",
      "29996          zwetschgenkuchen  bavarian plum cake  386977      240   \n",
      "29997   zwiebelkuchen   southwest german onion cake  103312       75   \n",
      "29998                                   zydeco soup  486161       60   \n",
      "29999        cookies by design   cookies on a stick  298512       29   \n",
      "\n",
      "       contributor_id  submitted  n_steps  \\\n",
      "0               35193 2002-10-25      NaN   \n",
      "1               91970 2003-07-26      NaN   \n",
      "2                1533 2002-08-29      NaN   \n",
      "3               22724 2002-07-27      NaN   \n",
      "4                4470 2004-02-23     4.00   \n",
      "...               ...        ...      ...   \n",
      "29995          200862 2007-11-25    16.00   \n",
      "29996          177443 2009-08-24      NaN   \n",
      "29997          161745 2004-11-03      NaN   \n",
      "29998          227978 2012-08-29      NaN   \n",
      "29999          506822 2008-04-15     9.00   \n",
      "\n",
      "                                             description  n_ingredients  \\\n",
      "0      an original recipe created by chef scott meska...          18.00   \n",
      "1      my children and their friends ask for my homem...            NaN   \n",
      "2                these were so go, it surprised even me.           8.00   \n",
      "3      my sister-in-law made these for us at a family...            NaN   \n",
      "4      i think a fondue is a very romantic casual din...            NaN   \n",
      "...                                                  ...            ...   \n",
      "29995  this is based on a french recipe but i changed...          10.00   \n",
      "29996  this is a traditional fresh plum cake, thought...          11.00   \n",
      "29997  this is a traditional late summer early fall s...            NaN   \n",
      "29998  this is a delicious soup that i originally fou...            NaN   \n",
      "29999  i've heard of the 'cookies by design' company,...          10.00   \n",
      "\n",
      "       description_length  name_word_count  \n",
      "0                  330.00                8  \n",
      "1                  255.00                5  \n",
      "2                   39.00                7  \n",
      "3                  154.00                3  \n",
      "4                  587.00                8  \n",
      "...                   ...              ...  \n",
      "29995              484.00                8  \n",
      "29996              286.00                4  \n",
      "29997              311.00                5  \n",
      "29998              648.00                2  \n",
      "29999              125.00                7  \n",
      "\n",
      "[30000 rows x 10 columns]\n"
     ]
    }
   ],
   "execution_count": 64
  },
  {
   "cell_type": "markdown",
   "metadata": {},
   "source": [
    "10. Посчитайте количество рецептов, представленных каждым из участников (`contributor_id`). Какой участник добавил максимальное кол-во рецептов?"
   ]
  },
  {
   "metadata": {
    "ExecuteTime": {
     "end_time": "2024-11-15T22:38:35.956858Z",
     "start_time": "2024-11-15T22:38:35.950536Z"
    }
   },
   "cell_type": "code",
   "source": [
    "contributor_recipe_count = recipes['contributor_id'].value_counts()\n",
    "\n",
    "print(contributor_recipe_count)\n",
    "\n",
    "max_contributor = contributor_recipe_count.idxmax()  \n",
    "max_contributor_count = contributor_recipe_count.max() \n",
    "\n",
    "print(f\"Участник с максимальным количеством рецептов: {max_contributor} ({max_contributor_count} рецептов)\")"
   ],
   "outputs": [
    {
     "name": "stdout",
     "output_type": "stream",
     "text": [
      "contributor_id\n",
      "89831      421\n",
      "37449      346\n",
      "37779      345\n",
      "1533       186\n",
      "169430     183\n",
      "          ... \n",
      "1061628      1\n",
      "1076183      1\n",
      "429061       1\n",
      "64032        1\n",
      "186118       1\n",
      "Name: count, Length: 8404, dtype: int64\n",
      "Участник с максимальным количеством рецептов: 89831 (421 рецептов)\n"
     ]
    }
   ],
   "execution_count": 65
  },
  {
   "cell_type": "markdown",
   "metadata": {},
   "source": [
    "11. При помощи объединения таблиц, создайте `DataFrame`, состоящий из четырех столбцов: `id`, `name`, `user_id`, `rating`. Рецепты без отзывов должны отсутствовать в данной таблице. Подтвердите правильность работы вашего кода, выбрав рецепт, не имеющий отзывов, и выведя на экран строку из полученного `DataFrame`, содержащую информацию об этом отзыве."
   ]
  },
  {
   "metadata": {
    "ExecuteTime": {
     "end_time": "2024-11-15T22:38:35.985045Z",
     "start_time": "2024-11-15T22:38:35.957864Z"
    }
   },
   "cell_type": "code",
   "source": [
    "# Объединяем таблицы recipes и reviews по столбцу 'id', оставляя только те рецепты, для которых есть отзывы\n",
    "merged_df = pd.merge(recipes[['id', 'name']], reviews[['recipe_id', 'user_id', 'rating']], left_on='id', right_on='recipe_id', how='inner')\n",
    "\n",
    "# Выбираем только нужные столбцы (id, name, user_id, rating)\n",
    "merged_df = merged_df[['id', 'name', 'user_id', 'rating']]\n",
    "\n",
    "# Выводим первые несколько строк результата\n",
    "print(merged_df.head())"
   ],
   "outputs": [
    {
     "name": "stdout",
     "output_type": "stream",
     "text": [
      "      id                                   name  user_id  rating\n",
      "0  44123  george s at the cove  black bean soup   743566       5\n",
      "1  44123  george s at the cove  black bean soup    76503       5\n",
      "2  44123  george s at the cove  black bean soup    34206       5\n",
      "3  67664     healthy for them  yogurt popsicles   494084       5\n",
      "4  67664     healthy for them  yogurt popsicles   303445       5\n"
     ]
    }
   ],
   "execution_count": 66
  }
 ],
 "metadata": {
  "kernelspec": {
   "display_name": "Python 3",
   "language": "python",
   "name": "python3"
  },
  "language_info": {
   "codemirror_mode": {
    "name": "ipython",
    "version": 3
   },
   "file_extension": ".py",
   "mimetype": "text/x-python",
   "name": "python",
   "nbconvert_exporter": "python",
   "pygments_lexer": "ipython3",
   "version": "3.8.8"
  }
 },
 "nbformat": 4,
 "nbformat_minor": 4
}
