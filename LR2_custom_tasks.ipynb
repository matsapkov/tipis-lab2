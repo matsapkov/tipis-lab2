{
 "cells": [
  {
   "metadata": {},
   "cell_type": "markdown",
   "source": [
    "### Задания на 1 балл\n",
    "1. Вывести самого успешного игрока.\n",
    "2. Вывести дату, где процент побед был максимальным среди игроков.\n",
    "3. Добавьте в датафрейм информацию о дате рождения каждого игрока. Выведите средний возраст всех игроков\n",
    "4. Добавьте в датафрейм информацию об уровне сложности боя, пусть\n",
    "их будет 4 разных. Выясните, на каком уровне сложности бот\n",
    "побеждал чаще всего\n",
    "5. Добавьте столбцы, который высчитывает общую атаку всех юнитов\n",
    "и общую защиту. Сделать это для обоих армий.\n",
    "### Задания на 2 балла\n",
    "Для всех заданий на 2 балла необходимо результирующий\n",
    "DataFrame сохранить в отдельный csv файл.\n",
    "1. Создайте сводную таблицу, которая показывает среднюю атаку и\n",
    "защиту юнитов по типам юнитов (пехота, конница, стрелки).\n",
    "2. Посчитайте сумму атакующих значений для всех юнитов,\n",
    "участвующих в боях, и найдите среднее значение.\n",
    "3. Используйте pandas для построения графика, отображающего атаку\n",
    "и защиту юнитов (например, столбчатую диаграмму или иную\n",
    "другую).\n",
    "4. Найдите все битвы, в которых участвуют юниты, у которых атака по\n",
    "коннице больше 4 и защита по коннице больше 3, и выведите список\n",
    "этих битв.\n",
    "### Задания на 3 балла\n",
    "Для всех заданий на 3 балла необходимо результирующий\n",
    "DataFrame сохранить в отдельный csv файл.\n",
    "1. Создайте новую колонку, которая выражает отношение атаки к\n",
    "защите для всех юнитов, и постройте график для анализа этого\n",
    "отношения. Найдите юнита, у которого отношение атаки к защите\n",
    "(рассчитанное ранее) ближе всего к 1, и выведите его\n",
    "2. характеристики.\n",
    "Найдите все битвы, в которых участвуют юниты, у которых атака по\n",
    "коннице больше 4 и защита по коннице больше 3, и выведите список\n",
    "3. этих битв. Для полученного датафрейма создайте столбчатую\n",
    "диаграмму распределения исходов битв.\n",
    "Рассчитайте эффективность каждого юнита как отношение его\n",
    "суммарной атаки к суммарной защите в боях. Сохраните результат в\n",
    "новом DataFrame и отсортируйте по убыванию эффективности.\n",
    "Также, создайте новый DataFrame и выясните, в каком количестве\n",
    "выигранных, проигранных боев участвовал каждый юнит, а также\n",
    "боев, которые завершились в ничью. Объедините два полученных\n",
    "DataFrame в один и высчитайте коэффициент «полезности» юнита,\n",
    "как отношение его боевой эффективности к проценту побед.\n",
    "4. Добавьте к исходного DataFrame столбец погоды. Пусть погода\n",
    "бывает четырех видов – снег, дождь, туман и ясно. Снег –\n",
    "уменьшает атаку юнитов пеших, дождь – всадников, туман –\n",
    "лучников, ясно – не делает ничего. Конкретные характеристики по\n",
    "каждому виду погоды укажите в отдельном csv файле. Посчитайте\n",
    "суммарную атаку юнитов игрока и юнитов бота с учетом погоды.\n",
    "Создайте новый датафрейм, в котором будет указана информация о\n",
    "связи между исходами битв и погодой."
   ],
   "id": "32038413ff9ba858"
  },
  {
   "metadata": {},
   "cell_type": "markdown",
   "source": "### Задача 1 уровень 2",
   "id": "b5d8c7380be49a24"
  },
  {
   "metadata": {
    "ExecuteTime": {
     "end_time": "2024-11-22T11:31:54.592451Z",
     "start_time": "2024-11-22T11:31:54.551470Z"
    }
   },
   "cell_type": "code",
   "source": [
    "import pandas as pd\n",
    "\n",
    "path_to_file = 'data/unit_characteristics.csv'\n",
    "df = pd.read_csv(path_to_file)\n",
    "\n",
    "df[\"average_attack\"] = df[[\"attack_infantry\", \"attack_cavalry\", \"attack_ranged\"]].mean(axis=1)\n",
    "df[\"average_defense\"] = df[[\"defense_infantry\", \"defense_cavalry\", \"defense_ranged\"]].mean(axis=1)\n",
    "\n",
    "answer_table = df[[\"name\", \"average_attack\", \"average_defense\"]]\n",
    "\n",
    "answer_table.to_csv(\"custom_tasks_answers/task1.csv\", index=False)\n",
    "\n",
    "print(\"Готово\")"
   ],
   "id": "b63a1edbee5f599",
   "outputs": [
    {
     "name": "stdout",
     "output_type": "stream",
     "text": [
      "Готово\n"
     ]
    }
   ],
   "execution_count": 11
  },
  {
   "metadata": {},
   "cell_type": "markdown",
   "source": "### Задача 2 уровень 2",
   "id": "cabc87cc5e4de9e5"
  },
  {
   "metadata": {
    "ExecuteTime": {
     "end_time": "2024-11-22T11:31:54.599475Z",
     "start_time": "2024-11-22T11:31:54.593714Z"
    }
   },
   "cell_type": "code",
   "source": [
    "import pandas as pd\n",
    "\n",
    "df = pd.read_csv(\"data/unit_characteristics.csv\")\n",
    "\n",
    "df[\"total_attack\"] = df[[\"attack_infantry\", \"attack_cavalry\", \"attack_ranged\"]].sum(axis=1)\n",
    "\n",
    "total_attack_sum = df[\"total_attack\"].sum()\n",
    "\n",
    "total_attack_mean = df[\"total_attack\"].mean()\n",
    "\n",
    "result = pd.DataFrame({\"total_attack_sum\": [total_attack_sum], \"total_attack_mean\": [total_attack_mean]})\n",
    "result.to_csv(\"custom_tasks_answers/task2.csv\", index=False)\n",
    "\n",
    "print(\"Суммарная атака:\", total_attack_sum)\n",
    "print(\"Средняя атака:\", total_attack_mean)\n",
    "print(\"Результаты сохранены в 'task2.csv'.\")\n"
   ],
   "id": "f6f8302adc7fdc32",
   "outputs": [
    {
     "name": "stdout",
     "output_type": "stream",
     "text": [
      "Суммарная атака: 31\n",
      "Средняя атака: 10.333333333333334\n",
      "Результаты сохранены в 'task2.csv'.\n"
     ]
    }
   ],
   "execution_count": 12
  },
  {
   "metadata": {},
   "cell_type": "markdown",
   "source": "### Задача 3 уровень 2",
   "id": "1fd5c1df97942789"
  },
  {
   "metadata": {
    "ExecuteTime": {
     "end_time": "2024-11-22T11:31:54.741424Z",
     "start_time": "2024-11-22T11:31:54.600219Z"
    }
   },
   "cell_type": "code",
   "source": [
    "import pandas as pd\n",
    "\n",
    "df = pd.read_csv(\"data/unit_characteristics.csv\")\n",
    "\n",
    "df[\"average_attack\"] = df[[\"attack_infantry\", \"attack_cavalry\", \"attack_ranged\"]].mean(axis=1)\n",
    "df[\"average_defense\"] = df[[\"defense_infantry\", \"defense_cavalry\", \"defense_ranged\"]].mean(axis=1)\n",
    "\n",
    "plot = df.plot(\n",
    "    x=\"name\",\n",
    "    y=[\"average_attack\", \"average_defense\"],\n",
    "    kind=\"bar\",\n",
    "    figsize=(10, 6),\n",
    "    title=\"Average Attack and Defense by Unit Type\",\n",
    "    ylabel=\"Value\",\n",
    "    xlabel=\"Unit Type\",\n",
    "    legend=True,\n",
    "    grid=True\n",
    ")\n",
    "\n",
    "fig = plot.get_figure()\n",
    "fig.savefig(\"attack_defense_chart_pandas.png\")\n"
   ],
   "id": "6f9bd2de0f33bc81",
   "outputs": [
    {
     "data": {
      "text/plain": [
       "<Figure size 1000x600 with 1 Axes>"
      ],
      "image/png": "[encoded data removed]"
     },
     "metadata": {},
     "output_type": "display_data"
    }
   ],
   "execution_count": 13
  },
  {
   "metadata": {},
   "cell_type": "markdown",
   "source": "### Задача 4 уровень 2",
   "id": "eea428fb33f7dd59"
  },
  {
   "metadata": {
    "ExecuteTime": {
     "end_time": "2024-11-22T11:31:55.037911Z",
     "start_time": "2024-11-22T11:31:54.743543Z"
    }
   },
   "cell_type": "code",
   "source": [
    "\n",
    "df = pd.read_csv(\"data/unit_characteristics.csv\")\n",
    "\n",
    "qualified_units = df[\n",
    "    (df[\"attack_cavalry\"] > 4) & (df[\"defense_cavalry\"] > 3)\n",
    "][\"name\"].tolist()\n",
    "\n",
    "df2 = pd.read_csv(\"data/battle_results.csv\")\n",
    "\n",
    "filtered_battles = df2[\n",
    "    df2[\"player_army\"].str.contains('|'.join(qualified_units), case=False) |\n",
    "    df2[\"bot_army\"].str.contains('|'.join(qualified_units), case=False)\n",
    "]\n",
    "\n",
    "filtered_battles_list = filtered_battles[[\"id_player\", \"player_army\", \"bot_army\", \"battle_result\", \"date\"]]\n",
    "filtered_battles_list\n",
    "\n"
   ],
   "id": "71f0fd6d9590f2d8",
   "outputs": [
    {
     "data": {
      "text/plain": [
       "       id_player                                        player_army  \\\n",
       "0      Player_12  infantry, mounted archer, cavalry, archer, cav...   \n",
       "1      Player_21  mounted archer, infantry, mounted archer, infa...   \n",
       "2       Player_2  mounted archer, cavalry, infantry, archer, arc...   \n",
       "3       Player_8  mounted archer, mounted archer, cavalry, arche...   \n",
       "4      Player_42  archer, cavalry, infantry, archer, cavalry, ar...   \n",
       "...          ...                                                ...   \n",
       "49995  Player_42  cavalry, mounted archer, mounted archer, infan...   \n",
       "49996  Player_14  mounted archer, archer, infantry, cavalry, cav...   \n",
       "49997  Player_20                  mounted archer, infantry, cavalry   \n",
       "49998  Player_35  archer, cavalry, archer, cavalry, mounted arch...   \n",
       "49999  Player_20                                 infantry, infantry   \n",
       "\n",
       "                                                bot_army battle_result  \\\n",
       "0      mounted archer, infantry, mounted archer, arch...       bot_win   \n",
       "1      mounted archer, mounted archer, infantry, cava...       bot_win   \n",
       "2      infantry, archer, mounted archer, cavalry, cav...          draw   \n",
       "3      archer, infantry, infantry, infantry, infantry...       bot_win   \n",
       "4      cavalry, infantry, infantry, cavalry, mounted ...       bot_win   \n",
       "...                                                  ...           ...   \n",
       "49995  infantry, archer, infantry, cavalry, cavalry, ...          draw   \n",
       "49996  infantry, archer, cavalry, archer, mounted arc...    player_win   \n",
       "49997  cavalry, infantry, mounted archer, archer, cav...          draw   \n",
       "49998  mounted archer, cavalry, archer, archer, infan...    player_win   \n",
       "49999  infantry, mounted archer, infantry, cavalry, m...       bot_win   \n",
       "\n",
       "             date  \n",
       "0      2023-10-17  \n",
       "1      2023-10-20  \n",
       "2      2023-10-03  \n",
       "3      2023-10-23  \n",
       "4      2023-10-08  \n",
       "...           ...  \n",
       "49995  2023-10-09  \n",
       "49996  2023-10-12  \n",
       "49997  2023-10-07  \n",
       "49998  2023-10-20  \n",
       "49999  2023-10-18  \n",
       "\n",
       "[49827 rows x 5 columns]"
      ],
      "text/html": [
       "<div>\n",
       "<style scoped>\n",
       "    .dataframe tbody tr th:only-of-type {\n",
       "        vertical-align: middle;\n",
       "    }\n",
       "\n",
       "    .dataframe tbody tr th {\n",
       "        vertical-align: top;\n",
       "    }\n",
       "\n",
       "    .dataframe thead th {\n",
       "        text-align: right;\n",
       "    }\n",
       "</style>\n",
       "<table border=\"1\" class=\"dataframe\">\n",
       "  <thead>\n",
       "    <tr style=\"text-align: right;\">\n",
       "      <th></th>\n",
       "      <th>id_player</th>\n",
       "      <th>player_army</th>\n",
       "      <th>bot_army</th>\n",
       "      <th>battle_result</th>\n",
       "      <th>date</th>\n",
       "    </tr>\n",
       "  </thead>\n",
       "  <tbody>\n",
       "    <tr>\n",
       "      <th>0</th>\n",
       "      <td>Player_12</td>\n",
       "      <td>infantry, mounted archer, cavalry, archer, cav...</td>\n",
       "      <td>mounted archer, infantry, mounted archer, arch...</td>\n",
       "      <td>bot_win</td>\n",
       "      <td>2023-10-17</td>\n",
       "    </tr>\n",
       "    <tr>\n",
       "      <th>1</th>\n",
       "      <td>Player_21</td>\n",
       "      <td>mounted archer, infantry, mounted archer, infa...</td>\n",
       "      <td>mounted archer, mounted archer, infantry, cava...</td>\n",
       "      <td>bot_win</td>\n",
       "      <td>2023-10-20</td>\n",
       "    </tr>\n",
       "    <tr>\n",
       "      <th>2</th>\n",
       "      <td>Player_2</td>\n",
       "      <td>mounted archer, cavalry, infantry, archer, arc...</td>\n",
       "      <td>infantry, archer, mounted archer, cavalry, cav...</td>\n",
       "      <td>draw</td>\n",
       "      <td>2023-10-03</td>\n",
       "    </tr>\n",
       "    <tr>\n",
       "      <th>3</th>\n",
       "      <td>Player_8</td>\n",
       "      <td>mounted archer, mounted archer, cavalry, arche...</td>\n",
       "      <td>archer, infantry, infantry, infantry, infantry...</td>\n",
       "      <td>bot_win</td>\n",
       "      <td>2023-10-23</td>\n",
       "    </tr>\n",
       "    <tr>\n",
       "      <th>4</th>\n",
       "      <td>Player_42</td>\n",
       "      <td>archer, cavalry, infantry, archer, cavalry, ar...</td>\n",
       "      <td>cavalry, infantry, infantry, cavalry, mounted ...</td>\n",
       "      <td>bot_win</td>\n",
       "      <td>2023-10-08</td>\n",
       "    </tr>\n",
       "    <tr>\n",
       "      <th>...</th>\n",
       "      <td>...</td>\n",
       "      <td>...</td>\n",
       "      <td>...</td>\n",
       "      <td>...</td>\n",
       "      <td>...</td>\n",
       "    </tr>\n",
       "    <tr>\n",
       "      <th>49995</th>\n",
       "      <td>Player_42</td>\n",
       "      <td>cavalry, mounted archer, mounted archer, infan...</td>\n",
       "      <td>infantry, archer, infantry, cavalry, cavalry, ...</td>\n",
       "      <td>draw</td>\n",
       "      <td>2023-10-09</td>\n",
       "    </tr>\n",
       "    <tr>\n",
       "      <th>49996</th>\n",
       "      <td>Player_14</td>\n",
       "      <td>mounted archer, archer, infantry, cavalry, cav...</td>\n",
       "      <td>infantry, archer, cavalry, archer, mounted arc...</td>\n",
       "      <td>player_win</td>\n",
       "      <td>2023-10-12</td>\n",
       "    </tr>\n",
       "    <tr>\n",
       "      <th>49997</th>\n",
       "      <td>Player_20</td>\n",
       "      <td>mounted archer, infantry, cavalry</td>\n",
       "      <td>cavalry, infantry, mounted archer, archer, cav...</td>\n",
       "      <td>draw</td>\n",
       "      <td>2023-10-07</td>\n",
       "    </tr>\n",
       "    <tr>\n",
       "      <th>49998</th>\n",
       "      <td>Player_35</td>\n",
       "      <td>archer, cavalry, archer, cavalry, mounted arch...</td>\n",
       "      <td>mounted archer, cavalry, archer, archer, infan...</td>\n",
       "      <td>player_win</td>\n",
       "      <td>2023-10-20</td>\n",
       "    </tr>\n",
       "    <tr>\n",
       "      <th>49999</th>\n",
       "      <td>Player_20</td>\n",
       "      <td>infantry, infantry</td>\n",
       "      <td>infantry, mounted archer, infantry, cavalry, m...</td>\n",
       "      <td>bot_win</td>\n",
       "      <td>2023-10-18</td>\n",
       "    </tr>\n",
       "  </tbody>\n",
       "</table>\n",
       "<p>49827 rows × 5 columns</p>\n",
       "</div>"
      ]
     },
     "execution_count": 14,
     "metadata": {},
     "output_type": "execute_result"
    }
   ],
   "execution_count": 14
  }
 ],
 "metadata": {
  "kernelspec": {
   "display_name": "Python 3",
   "language": "python",
   "name": "python3"
  },
  "language_info": {
   "codemirror_mode": {
    "name": "ipython",
    "version": 2
   },
   "file_extension": ".py",
   "mimetype": "text/x-python",
   "name": "python",
   "nbconvert_exporter": "python",
   "pygments_lexer": "ipython2",
   "version": "2.7.6"
  }
 },
 "nbformat": 4,
 "nbformat_minor": 5
}
