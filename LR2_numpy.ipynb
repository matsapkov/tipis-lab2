{
 "cells": [
  {
   "cell_type": "markdown",
   "metadata": {},
   "source": [
    "# Numpy"
   ]
  },
  {
   "cell_type": "markdown",
   "metadata": {},
   "source": [
    "Полезные ссылки\n",
    "* https://www.kaggle.com/code/landlord/numpy-tutorial\n",
    "* https://numpy.org/doc/stable/user/index.html\n",
    "* https://numpy.org/doc/stable/reference/index.html\n",
    "* https://www.kaggle.com/code/themlphdstudent/learn-numpy-numpy-50-exercises-and-solution"
   ]
  },
  {
   "cell_type": "markdown",
   "metadata": {},
   "source": [
    "## Задачи"
   ]
  },
  {
   "cell_type": "markdown",
   "metadata": {},
   "source": [
    "Замечание: при решении данных задач не подразумевается использования циклов или генераторов Python. Решение должно опираться исключительно на использования функционала библиотеки `numpy`."
   ]
  },
  {
   "cell_type": "markdown",
   "metadata": {},
   "source": [
    "1. Файл `minutes_n_ingredients.csv` содержит информацию об идентификаторе рецепта, времени его выполнения в минутах и количестве необходимых ингредиентов. Считайте данные из этого файла в виде массива `numpy` Выведите на экран первые 10 строк массива."
   ]
  },
  {
   "metadata": {
    "ExecuteTime": {
     "end_time": "2024-11-19T13:42:54.614442Z",
     "start_time": "2024-11-19T13:42:54.470653Z"
    }
   },
   "cell_type": "code",
   "source": [
    "import numpy as np\n",
    "\n",
    "file_path = 'data/minutes_n_ingredients.csv'\n",
    "data = np.genfromtxt(file_path, delimiter=',', skip_header=1)\n",
    "\n",
    "data[:10]\n"
   ],
   "outputs": [
    {
     "data": {
      "text/plain": [
       "array([[1.27244e+05, 6.00000e+01, 1.60000e+01],\n",
       "       [2.38910e+04, 2.50000e+01, 7.00000e+00],\n",
       "       [9.47460e+04, 1.00000e+01, 6.00000e+00],\n",
       "       [6.76600e+04, 5.00000e+00, 6.00000e+00],\n",
       "       [1.57911e+05, 6.00000e+01, 1.40000e+01],\n",
       "       [1.52828e+05, 4.00000e+01, 7.00000e+00],\n",
       "       [3.39410e+04, 1.80000e+01, 9.00000e+00],\n",
       "       [4.46597e+05, 1.50000e+01, 5.00000e+00],\n",
       "       [3.66174e+05, 7.00000e+00, 9.00000e+00],\n",
       "       [7.42050e+04, 2.00000e+01, 7.00000e+00]])"
      ]
     },
     "execution_count": 116,
     "metadata": {},
     "output_type": "execute_result"
    }
   ],
   "execution_count": 116
  },
  {
   "cell_type": "markdown",
   "metadata": {},
   "source": "2. Вычислите среднее значение, минимум, максимум и медиану по каждому из столбцов, кроме первого."
  },
  {
   "metadata": {
    "ExecuteTime": {
     "end_time": "2024-11-19T13:42:54.740087Z",
     "start_time": "2024-11-19T13:42:54.617109Z"
    }
   },
   "cell_type": "code",
   "source": [
    "file_path = 'data/minutes_n_ingredients.csv'\n",
    "data = np.genfromtxt(file_path, delimiter=',', skip_header=1)\n",
    "\n",
    "selected_columns = data[:, 1:]\n",
    "print('---')\n",
    "mean_columns = np.mean(selected_columns, axis=0)\n",
    "max_columns = np.max(selected_columns, axis=0)\n",
    "min_columns = np.min(selected_columns, axis=0)\n",
    "median_columns = np.median(selected_columns, axis=0)\n",
    "\n",
    "print(mean_columns)\n",
    "print(max_columns)\n",
    "print(min_columns)\n",
    "print(median_columns)"
   ],
   "outputs": [
    {
     "name": "stdout",
     "output_type": "stream",
     "text": [
      "---\n",
      "[2.16010017e+04 9.05528000e+00]\n",
      "[2.14748365e+09 3.90000000e+01]\n",
      "[0. 1.]\n",
      "[40.  9.]\n"
     ]
    }
   ],
   "execution_count": 117
  },
  {
   "cell_type": "markdown",
   "metadata": {},
   "source": [
    "3. Посчитайте, для скольких рецептов указана продолжительность, равная нулю. Замените для таких строк значение в данном столбце на 1."
   ]
  },
  {
   "metadata": {
    "ExecuteTime": {
     "end_time": "2024-11-19T13:42:54.848886Z",
     "start_time": "2024-11-19T13:42:54.741093Z"
    }
   },
   "cell_type": "code",
   "source": [
    "file_path = 'data/minutes_n_ingredients.csv'\n",
    "data = np.genfromtxt(file_path, delimiter=',', skip_header=1)\n",
    "\n",
    "zero_duration_count = np.sum(data[:, 1] == 0)\n",
    "\n",
    "data[data[:, 1] == 0, 1] = 1\n",
    "\n",
    "zero_duration_count"
   ],
   "outputs": [
    {
     "data": {
      "text/plain": [
       "479"
      ]
     },
     "execution_count": 118,
     "metadata": {},
     "output_type": "execute_result"
    }
   ],
   "execution_count": 118
  },
  {
   "cell_type": "markdown",
   "metadata": {},
   "source": [
    "4. Посчитайте, сколько уникальных рецептов находится в датасете."
   ]
  },
  {
   "metadata": {
    "ExecuteTime": {
     "end_time": "2024-11-19T13:42:54.957462Z",
     "start_time": "2024-11-19T13:42:54.850128Z"
    }
   },
   "cell_type": "code",
   "source": [
    "file_path = 'data/minutes_n_ingredients.csv'\n",
    "data = np.genfromtxt(file_path, delimiter=',', skip_header=1)\n",
    "\n",
    "unique_recipes_count = len(np.unique(data[:, 0]))\n",
    "\n",
    "unique_recipes_count"
   ],
   "outputs": [
    {
     "data": {
      "text/plain": [
       "100000"
      ]
     },
     "execution_count": 119,
     "metadata": {},
     "output_type": "execute_result"
    }
   ],
   "execution_count": 119
  },
  {
   "cell_type": "markdown",
   "metadata": {},
   "source": [
    "5. Сколько и каких различных значений кол-ва ингредиентов присутвует в рецептах из датасета?"
   ]
  },
  {
   "metadata": {
    "ExecuteTime": {
     "end_time": "2024-11-19T13:42:54.963565Z",
     "start_time": "2024-11-19T13:42:54.958031Z"
    }
   },
   "cell_type": "code",
   "source": [
    "import numpy as np\n",
    "\n",
    "ingredients = data[:, 2]\n",
    "\n",
    "unique_ingredients = np.unique(ingredients)\n",
    "\n",
    "count_unique = len(unique_ingredients)\n",
    "\n",
    "print(f\"Количество уникальных значений: {count_unique}\")\n",
    "print(\"Уникальные значения:\", unique_ingredients)"
   ],
   "outputs": [
    {
     "name": "stdout",
     "output_type": "stream",
     "text": [
      "Количество уникальных значений: 37\n",
      "Уникальные значения: [ 1.  2.  3.  4.  5.  6.  7.  8.  9. 10. 11. 12. 13. 14. 15. 16. 17. 18.\n",
      " 19. 20. 21. 22. 23. 24. 25. 26. 27. 28. 29. 30. 31. 32. 33. 34. 35. 37.\n",
      " 39.]\n"
     ]
    }
   ],
   "execution_count": 120
  },
  {
   "cell_type": "markdown",
   "metadata": {},
   "source": [
    "6. Создайте версию массива, содержащую информацию только о рецептах, состоящих не более чем из 5 ингредиентов."
   ]
  },
  {
   "metadata": {
    "ExecuteTime": {
     "end_time": "2024-11-19T13:42:54.967412Z",
     "start_time": "2024-11-19T13:42:54.964314Z"
    }
   },
   "cell_type": "code",
   "source": [
    "filtered_data = data[data[:, 2] <= 5]\n",
    "\n",
    "print(f\"Размер нового массива: {filtered_data.shape}\")\n",
    "print(\"Первые 10 строк нового массива:\")\n",
    "print(filtered_data[:10])\n"
   ],
   "outputs": [
    {
     "name": "stdout",
     "output_type": "stream",
     "text": [
      "Размер нового массива: (17262, 3)\n",
      "Первые 10 строк нового массива:\n",
      "[[4.46597e+05 1.50000e+01 5.00000e+00]\n",
      " [2.04134e+05 5.00000e+00 3.00000e+00]\n",
      " [2.56230e+04 6.00000e+00 4.00000e+00]\n",
      " [4.84223e+05 1.80000e+01 4.00000e+00]\n",
      " [6.31500e+04 2.50000e+02 4.00000e+00]\n",
      " [7.04530e+04 2.50000e+01 4.00000e+00]\n",
      " [6.68420e+04 2.00000e+00 4.00000e+00]\n",
      " [3.37928e+05 5.50000e+01 4.00000e+00]\n",
      " [1.40245e+05 5.00000e+00 5.00000e+00]\n",
      " [7.53130e+04 6.03000e+02 5.00000e+00]]\n"
     ]
    }
   ],
   "execution_count": 121
  },
  {
   "cell_type": "markdown",
   "metadata": {},
   "source": [
    "7. Для каждого рецепта посчитайте, сколько в среднем ингредиентов приходится на одну минуту рецепта. Найдите максимальное значение этой величины для всего датасета"
   ]
  },
  {
   "metadata": {
    "ExecuteTime": {
     "end_time": "2024-11-19T13:42:54.971048Z",
     "start_time": "2024-11-19T13:42:54.968015Z"
    }
   },
   "cell_type": "code",
   "source": [
    "num_ingredients = data[:, 2]\n",
    "duration = data[:, 1] \n",
    "\n",
    "duration[duration == 0] = 1\n",
    "\n",
    "ingredients_per_minute = num_ingredients / duration\n",
    "\n",
    "max_ingredients_per_minute = np.max(ingredients_per_minute)\n",
    "\n",
    "print(\"Максимальное количество ингредиентов на минуту:\", max_ingredients_per_minute)\n"
   ],
   "outputs": [
    {
     "name": "stdout",
     "output_type": "stream",
     "text": [
      "Максимальное количество ингредиентов на минуту: 24.0\n"
     ]
    }
   ],
   "execution_count": 122
  },
  {
   "cell_type": "markdown",
   "metadata": {},
   "source": [
    "8. Вычислите среднее количество ингредиентов для топ-100 рецептов с наибольшей продолжительностью"
   ]
  },
  {
   "metadata": {
    "ExecuteTime": {
     "end_time": "2024-11-19T13:42:54.979011Z",
     "start_time": "2024-11-19T13:42:54.971775Z"
    }
   },
   "cell_type": "code",
   "source": [
    "num_ingredients = data[:, 2]\n",
    "duration = data[:, 1]\n",
    "\n",
    "sorted_indices = np.argsort(duration)[::-1] \n",
    "\n",
    "top_100_indices = sorted_indices[:100]\n",
    "\n",
    "top_100_ingredients = num_ingredients[top_100_indices]\n",
    "\n",
    "average_ingredients_top_100 = np.mean(top_100_ingredients)\n",
    "\n",
    "print(\"Среднее количество ингредиентов для топ-100 рецептов с наибольшей продолжительностью:\", average_ingredients_top_100)\n"
   ],
   "outputs": [
    {
     "name": "stdout",
     "output_type": "stream",
     "text": [
      "Среднее количество ингредиентов для топ-100 рецептов с наибольшей продолжительностью: 6.61\n"
     ]
    }
   ],
   "execution_count": 123
  },
  {
   "cell_type": "markdown",
   "metadata": {},
   "source": [
    "9. Выберите случайным образом и выведите информацию о 10 различных рецептах"
   ]
  },
  {
   "metadata": {
    "ExecuteTime": {
     "end_time": "2024-11-19T13:42:54.984362Z",
     "start_time": "2024-11-19T13:42:54.979914Z"
    }
   },
   "cell_type": "code",
   "source": [
    "num_ingredients = data[:, 2]\n",
    "duration = data[:, 1]\n",
    "\n",
    "random_indices = data[np.random.choice(len(data), size=10, replace=False)]\n",
    "print(\"---\")\n",
    "print(random_indices)\n",
    "\n"
   ],
   "outputs": [
    {
     "name": "stdout",
     "output_type": "stream",
     "text": [
      "---\n",
      "[[2.30436e+05 8.00000e+01 1.40000e+01]\n",
      " [3.78119e+05 4.50000e+01 9.00000e+00]\n",
      " [1.28560e+05 5.00000e+00 1.00000e+01]\n",
      " [3.92209e+05 1.35000e+02 1.10000e+01]\n",
      " [2.86586e+05 8.00000e+01 8.00000e+00]\n",
      " [3.28141e+05 3.50000e+01 1.30000e+01]\n",
      " [3.94638e+05 1.50000e+01 8.00000e+00]\n",
      " [2.76111e+05 2.00000e+01 5.00000e+00]\n",
      " [1.75619e+05 2.00000e+01 8.00000e+00]\n",
      " [1.17820e+04 3.00000e+01 1.10000e+01]]\n"
     ]
    }
   ],
   "execution_count": 124
  },
  {
   "cell_type": "markdown",
   "metadata": {},
   "source": [
    "10. Выведите процент рецептов, кол-во ингредиентов в которых меньше среднего."
   ]
  },
  {
   "metadata": {
    "ExecuteTime": {
     "end_time": "2024-11-19T13:42:54.988872Z",
     "start_time": "2024-11-19T13:42:54.986281Z"
    }
   },
   "cell_type": "code",
   "source": [
    "ingredients = data[:, 2]\n",
    "\n",
    "average_ingredients = np.mean(ingredients)\n",
    "\n",
    "count_less_than_average = np.sum(ingredients < average_ingredients)\n",
    "\n",
    "percentage_less_than_average = (count_less_than_average / data.shape[0]) * 100\n",
    "\n",
    "print(f\"Процент рецептов, где количество ингредиентов меньше среднего: {percentage_less_than_average:.2f}%\")\n"
   ],
   "outputs": [
    {
     "name": "stdout",
     "output_type": "stream",
     "text": [
      "Процент рецептов, где количество ингредиентов меньше среднего: 58.80%\n"
     ]
    }
   ],
   "execution_count": 125
  },
  {
   "cell_type": "markdown",
   "metadata": {},
   "source": [
    "11. Назовем \"простым\" такой рецепт, длительность выполнения которого не больше 20 минут и кол-во ингредиентов в котором не больше 5. Создайте версию датасета с дополнительным столбцом, значениями которого являются 1, если рецепт простой, и 0 в противном случае."
   ]
  },
  {
   "metadata": {
    "ExecuteTime": {
     "end_time": "2024-11-19T13:42:54.992491Z",
     "start_time": "2024-11-19T13:42:54.989356Z"
    }
   },
   "cell_type": "code",
   "source": [
    "ingredients = data[:, 2]\n",
    "\n",
    "duration = data[:, 1]\n",
    "\n",
    "simple_recipe_condition = (ingredients <= 5) & (duration <= 20)\n",
    "\n",
    "simple_recipe_column = simple_recipe_condition.astype(int)\n",
    "\n",
    "data_with_simple_flag = np.column_stack((data, simple_recipe_column))\n",
    "\n",
    "print('---')\n",
    "print(data_with_simple_flag[:5])\n"
   ],
   "outputs": [
    {
     "name": "stdout",
     "output_type": "stream",
     "text": [
      "---\n",
      "[[1.27244e+05 6.00000e+01 1.60000e+01 0.00000e+00]\n",
      " [2.38910e+04 2.50000e+01 7.00000e+00 0.00000e+00]\n",
      " [9.47460e+04 1.00000e+01 6.00000e+00 0.00000e+00]\n",
      " [6.76600e+04 5.00000e+00 6.00000e+00 0.00000e+00]\n",
      " [1.57911e+05 6.00000e+01 1.40000e+01 0.00000e+00]]\n"
     ]
    }
   ],
   "execution_count": 126
  },
  {
   "cell_type": "markdown",
   "metadata": {},
   "source": "12. Выведите процент \"простых\" рецептов в датасете"
  },
  {
   "metadata": {
    "ExecuteTime": {
     "end_time": "2024-11-19T13:42:54.995244Z",
     "start_time": "2024-11-19T13:42:54.993224Z"
    }
   },
   "cell_type": "code",
   "source": [
    "ingredients = data[:, 2]\n",
    "\n",
    "duration = data[:, 1]\n",
    "\n",
    "simple_recipe_condition = (ingredients <= 5) & (duration <= 20)\n",
    "\n",
    "simple_recipe_percentage = np.mean(simple_recipe_condition) * 100\n",
    "\n",
    "print(f\"Процент простых рецептов: {simple_recipe_percentage:.2f}%\")\n"
   ],
   "outputs": [
    {
     "name": "stdout",
     "output_type": "stream",
     "text": [
      "Процент простых рецептов: 9.55%\n"
     ]
    }
   ],
   "execution_count": 127
  }
 ],
 "metadata": {
  "kernelspec": {
   "display_name": "Python 3",
   "language": "python",
   "name": "python3"
  },
  "language_info": {
   "codemirror_mode": {
    "name": "ipython",
    "version": 3
   },
   "file_extension": ".py",
   "mimetype": "text/x-python",
   "name": "python",
   "nbconvert_exporter": "python",
   "pygments_lexer": "ipython3",
   "version": "3.8.8"
  }
 },
 "nbformat": 4,
 "nbformat_minor": 4
}
